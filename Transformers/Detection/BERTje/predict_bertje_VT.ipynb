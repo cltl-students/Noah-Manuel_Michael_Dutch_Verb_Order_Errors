{
 "cells": [
  {
   "cell_type": "code",
   "execution_count": 1,
   "id": "37bb788a-bdde-4070-9c7b-1e80cc6e1f11",
   "metadata": {},
   "outputs": [
    {
     "name": "stderr",
     "output_type": "stream",
     "text": [
      "/home/nmichael/.local/lib/python3.8/site-packages/tqdm/auto.py:21: TqdmWarning: IProgress not found. Please update jupyter and ipywidgets. See https://ipywidgets.readthedocs.io/en/stable/user_install.html\n",
      "  from .autonotebook import tqdm as notebook_tqdm\n"
     ]
    }
   ],
   "source": [
    "import torch\n",
    "import pandas as pd\n",
    "from transformers import BertTokenizer, BertForSequenceClassification\n",
    "from tqdm import tqdm"
   ]
  },
  {
   "cell_type": "code",
   "execution_count": 3,
   "id": "dbe9fb59-29d0-4882-8a96-7f84dc80b1e6",
   "metadata": {},
   "outputs": [
    {
     "name": "stderr",
     "output_type": "stream",
     "text": [
      "100%|██████████| 850/850 [00:17<00:00, 48.95it/s]\n",
      "100%|██████████| 850/850 [00:17<00:00, 48.35it/s]\n"
     ]
    }
   ],
   "source": [
    "def get_predictions_bertje_VT(model_path):\n",
    "    \"\"\"\n",
    "\n",
    "    :param model_path:\n",
    "    :return:\n",
    "    \"\"\"\n",
    "    # Load your fine-tuned model\n",
    "    model = BertForSequenceClassification.from_pretrained(model_path)\n",
    "    tokenizer = BertTokenizer.from_pretrained('GroNLP/bert-base-dutch-cased', do_lower_case=True)\n",
    "\n",
    "    df_test = pd.read_csv('../test_shuffled_random_all_and_verbs_and_tendencies.tsv', sep='\\t', encoding='utf-8', header=0)\n",
    "    test_set = [s for s in df_test['tendencies_no_punc']]\n",
    "\n",
    "    # Use the GPU if available\n",
    "    device = torch.device(\"cuda\" if torch.cuda.is_available() else \"cpu\")\n",
    "    model = model.to(device)\n",
    "\n",
    "    # Tokenize and create input tensors\n",
    "    inputs = tokenizer(test_set, return_tensors=\"pt\", padding=True, truncation=True, max_length=64)\n",
    "    input_ids = inputs[\"input_ids\"].to(device)\n",
    "    attention_mask = inputs[\"attention_mask\"].to(device)\n",
    "\n",
    "    # Set the model to evaluation mode\n",
    "    model.eval()\n",
    "\n",
    "    # Define the batch size\n",
    "    batch_size = 16\n",
    "\n",
    "    # Predict labels in batches\n",
    "    predicted_labels = []\n",
    "    for i in tqdm(range(0, len(input_ids), batch_size)):\n",
    "        batch_input_ids = input_ids[i:i + batch_size]\n",
    "        batch_attention_mask = attention_mask[i:i + batch_size]\n",
    "\n",
    "        # Forward pass\n",
    "        with torch.no_grad():\n",
    "            outputs = model(batch_input_ids, attention_mask=batch_attention_mask)\n",
    "\n",
    "        # Get the predicted label\n",
    "        logits = outputs.logits\n",
    "        _, batch_predicted_labels = torch.max(logits, dim=1)\n",
    "        predicted_labels.extend(batch_predicted_labels.tolist())\n",
    "\n",
    "    # Write predictions to file\n",
    "    with open(f'Predictions3/predictions_bertje_'\n",
    "              f'{model_path.lstrip(\"finetuned_bertje_sequence_classification_\")}_VT3.txt', 'w') as outfile:\n",
    "        for label in predicted_labels:\n",
    "            if label == 1:\n",
    "                outfile.write('correct\\n')\n",
    "            else:\n",
    "                outfile.write('incorrect\\n')\n",
    "\n",
    "\n",
    "if __name__ == '__main__':\n",
    "    # get_predictions_fine_tuned_bertje_no_punc()\n",
    "    get_predictions_bertje_VT('finetuned_bertje_sequence_classification_no_punc3')\n",
    "    get_predictions_bertje_VT('finetuned_bertje_sequence_classification_verbs_no_punc3')"
   ]
  },
  {
   "cell_type": "code",
   "execution_count": null,
   "id": "63e7a53f-b160-4a4f-94d4-d1efa8cc151f",
   "metadata": {},
   "outputs": [],
   "source": []
  }
 ],
 "metadata": {
  "kernelspec": {
   "display_name": "Python 3 (ipykernel)",
   "language": "python",
   "name": "python3"
  },
  "language_info": {
   "codemirror_mode": {
    "name": "ipython",
    "version": 3
   },
   "file_extension": ".py",
   "mimetype": "text/x-python",
   "name": "python",
   "nbconvert_exporter": "python",
   "pygments_lexer": "ipython3",
   "version": "3.8.10"
  }
 },
 "nbformat": 4,
 "nbformat_minor": 5
}
