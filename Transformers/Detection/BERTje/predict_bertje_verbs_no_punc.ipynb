{
 "cells": [
  {
   "cell_type": "code",
   "execution_count": 1,
   "id": "ab4bf61e-db61-45eb-8486-c35bca87947c",
   "metadata": {},
   "outputs": [
    {
     "name": "stderr",
     "output_type": "stream",
     "text": [
      "/home/nmichael/.local/lib/python3.8/site-packages/tqdm/auto.py:21: TqdmWarning: IProgress not found. Please update jupyter and ipywidgets. See https://ipywidgets.readthedocs.io/en/stable/user_install.html\n",
      "  from .autonotebook import tqdm as notebook_tqdm\n"
     ]
    }
   ],
   "source": [
    "# Noah-Manuel Michael\n",
    "# Created: 12.05.2023\n",
    "# Last updated: 12.05.2023\n",
    "# test the fine-tuned detection transformer model\n",
    "# This script was pair-programmed with Chat-GPT (v4)\n",
    "\n",
    "import torch\n",
    "import pandas as pd\n",
    "from transformers import BertTokenizer, BertForSequenceClassification\n",
    "\n",
    "\n",
    "def get_predictions_fine_tuned_bertje_verbs_no_punc():\n",
    "    # Load your fine-tuned model\n",
    "    model_path = 'finetuned_bertje_sequence_classification_verbs_no_punc'\n",
    "    model = BertForSequenceClassification.from_pretrained(model_path)\n",
    "    tokenizer = BertTokenizer.from_pretrained('GroNLP/bert-base-dutch-cased', do_lower_case=True)\n",
    "\n",
    "    df_test = pd.read_csv('test_shuffled_random_all_and_verbs.tsv', sep='\\t', encoding='utf-8', header=0)\n",
    "    test_C = [s for s in df_test['no_punc']]\n",
    "    test_AR = [s for s in df_test['verbs_random_no_punc']]\n",
    "    test_set = test_C + test_AR\n",
    "\n",
    "    # Use the GPU if available\n",
    "    device = torch.device(\"cuda\" if torch.cuda.is_available() else \"cpu\")\n",
    "    model = model.to(device)\n",
    "\n",
    "    # Tokenize and create input tensors\n",
    "    inputs = tokenizer(test_set, return_tensors=\"pt\", padding=True, truncation=True, max_length=64)\n",
    "    input_ids = inputs[\"input_ids\"].to(device)\n",
    "    attention_mask = inputs[\"attention_mask\"].to(device)\n",
    "\n",
    "    # Set the model to evaluation mode\n",
    "    model.eval()\n",
    "\n",
    "    # Define the batch size\n",
    "    batch_size = 16\n",
    "\n",
    "    # Predict labels in batches\n",
    "    predicted_labels = []\n",
    "    for i in range(0, len(input_ids), batch_size):\n",
    "        batch_input_ids = input_ids[i:i + batch_size]\n",
    "        batch_attention_mask = attention_mask[i:i + batch_size]\n",
    "\n",
    "        # Forward pass\n",
    "        with torch.no_grad():\n",
    "            outputs = model(batch_input_ids, attention_mask=batch_attention_mask)\n",
    "\n",
    "        # Get the predicted label\n",
    "        logits = outputs.logits\n",
    "        _, batch_predicted_labels = torch.max(logits, dim=1)\n",
    "        predicted_labels.extend(batch_predicted_labels.tolist())\n",
    "\n",
    "    # Write predictions to file\n",
    "    with open('Predictions/predictions_bertje_no_punc_VR.txt', 'w') as outfile:\n",
    "        for label in predicted_labels:\n",
    "            if label == 1:\n",
    "                outfile.write('correct\\n')\n",
    "            else:\n",
    "                outfile.write('incorrect\\n')\n",
    "\n",
    "\n",
    "if __name__ == '__main__':\n",
    "    get_predictions_fine_tuned_bertje_verbs_no_punc()\n"
   ]
  },
  {
   "cell_type": "code",
   "execution_count": null,
   "id": "c2724dd1-e33a-48da-a9fb-672da68ec2cd",
   "metadata": {},
   "outputs": [],
   "source": []
  }
 ],
 "metadata": {
  "kernelspec": {
   "display_name": "Python 3 (ipykernel)",
   "language": "python",
   "name": "python3"
  },
  "language_info": {
   "codemirror_mode": {
    "name": "ipython",
    "version": 3
   },
   "file_extension": ".py",
   "mimetype": "text/x-python",
   "name": "python",
   "nbconvert_exporter": "python",
   "pygments_lexer": "ipython3",
   "version": "3.8.10"
  }
 },
 "nbformat": 4,
 "nbformat_minor": 5
}
