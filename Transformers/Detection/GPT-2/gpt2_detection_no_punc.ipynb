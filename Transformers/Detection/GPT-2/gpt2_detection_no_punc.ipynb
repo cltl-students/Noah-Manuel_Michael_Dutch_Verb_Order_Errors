{
 "cells": [
  {
   "cell_type": "code",
   "execution_count": 2,
   "id": "e7a5bada-ecd5-417a-bffc-7083ccc91355",
   "metadata": {},
   "outputs": [
    {
     "name": "stderr",
     "output_type": "stream",
     "text": [
      "Some weights of the model checkpoint at GroNLP/gpt2-small-dutch were not used when initializing GPT2ForSequenceClassification: ['lm_head.weight']\n",
      "- This IS expected if you are initializing GPT2ForSequenceClassification from the checkpoint of a model trained on another task or with another architecture (e.g. initializing a BertForSequenceClassification model from a BertForPreTraining model).\n",
      "- This IS NOT expected if you are initializing GPT2ForSequenceClassification from the checkpoint of a model that you expect to be exactly identical (initializing a BertForSequenceClassification model from a BertForSequenceClassification model).\n",
      "Some weights of GPT2ForSequenceClassification were not initialized from the model checkpoint at GroNLP/gpt2-small-dutch and are newly initialized: ['score.weight']\n",
      "You should probably TRAIN this model on a down-stream task to be able to use it for predictions and inference.\n",
      "/home/nmichael/.local/lib/python3.8/site-packages/transformers/optimization.py:407: FutureWarning: This implementation of AdamW is deprecated and will be removed in a future version. Use the PyTorch implementation torch.optim.AdamW instead, or set `no_deprecation_warning=True` to disable this warning\n",
      "  warnings.warn(\n"
     ]
    },
    {
     "data": {
      "text/html": [
       "\n",
       "    <div>\n",
       "      \n",
       "      <progress value='46875' max='46875' style='width:300px; height:20px; vertical-align: middle;'></progress>\n",
       "      [46875/46875 6:42:11, Epoch 3/3]\n",
       "    </div>\n",
       "    <table border=\"1\" class=\"dataframe\">\n",
       "  <thead>\n",
       " <tr style=\"text-align: left;\">\n",
       "      <th>Epoch</th>\n",
       "      <th>Training Loss</th>\n",
       "      <th>Validation Loss</th>\n",
       "    </tr>\n",
       "  </thead>\n",
       "  <tbody>\n",
       "    <tr>\n",
       "      <td>1</td>\n",
       "      <td>0.007300</td>\n",
       "      <td>0.006259</td>\n",
       "    </tr>\n",
       "    <tr>\n",
       "      <td>2</td>\n",
       "      <td>0.003200</td>\n",
       "      <td>0.005235</td>\n",
       "    </tr>\n",
       "    <tr>\n",
       "      <td>3</td>\n",
       "      <td>0.001300</td>\n",
       "      <td>0.006070</td>\n",
       "    </tr>\n",
       "  </tbody>\n",
       "</table><p>"
      ],
      "text/plain": [
       "<IPython.core.display.HTML object>"
      ]
     },
     "metadata": {},
     "output_type": "display_data"
    }
   ],
   "source": [
    "# Noah-Manuel Michael\n",
    "# Created: 11.05.2023\n",
    "# Last updated: 13.06.2023\n",
    "# https://colab.research.google.com/github/huggingface/notebooks/blob/main/examples/text_classification.ipynb\n",
    "# Fine-tune transformer models for word order error detection\n",
    "\n",
    "import pandas as pd\n",
    "from transformers import GPT2Tokenizer, GPT2ForSequenceClassification\n",
    "from transformers import Trainer, TrainingArguments\n",
    "from utils_detection import SequenceClassificationDataset\n",
    "\n",
    "\n",
    "def fine_tune_gpt2_no_punc_for_detection():\n",
    "    \"\"\"\n",
    "\n",
    "    :return:\n",
    "    \"\"\"\n",
    "    df_train = pd.read_csv('train_shuffled_random_all_and_verbs_sampled_transformer.tsv', sep='\\t', header=0, encoding='utf-8')\n",
    "    df_dev = pd.read_csv('dev_shuffled_random_all_and_verbs_sampled_transformer.tsv', sep='\\t', header=0, encoding='utf-8')\n",
    "    \n",
    "    # num_labels = 2\n",
    "    tokenizer = GPT2Tokenizer.from_pretrained('GroNLP/gpt2-small-dutch', do_lower_case=True)\n",
    "    tokenizer.pad_token = tokenizer.eos_token\n",
    "    model = GPT2ForSequenceClassification.from_pretrained('GroNLP/gpt2-small-dutch')\n",
    "\n",
    "    train_texts = [s for s in df_train['no_punc']] + \\\n",
    "                  [s for s in df_train['scrambled_no_punc']]\n",
    "    train_labels = [1 for _ in range(int(len(train_texts)/2))] + \\\n",
    "                   [0 for _ in range(int(len(train_texts)/2))]\n",
    "    val_texts = [s for s in df_dev['no_punc']] + \\\n",
    "                [s for s in df_dev['scrambled_no_punc']]\n",
    "    val_labels = [1 for _ in range(int(len(val_texts)/2))] + \\\n",
    "                 [0 for _ in range(int(len(val_texts)/2))]\n",
    "\n",
    "    train_dataset = SequenceClassificationDataset(train_texts, train_labels, tokenizer)\n",
    "    val_dataset = SequenceClassificationDataset(val_texts, val_labels, tokenizer)\n",
    "\n",
    "    training_args = TrainingArguments(output_dir='results_gpt2_detection_no_punc',\n",
    "                                      num_train_epochs=3,\n",
    "                                      per_device_train_batch_size=128,\n",
    "                                      per_device_eval_batch_size=128,\n",
    "                                      warmup_steps=500,\n",
    "                                      weight_decay=0.01,\n",
    "                                      save_strategy='epoch',\n",
    "                                      evaluation_strategy='epoch',\n",
    "                                      load_best_model_at_end=True,\n",
    "                                      report_to=[])\n",
    "\n",
    "    trainer = Trainer(model=model,\n",
    "                      args=training_args,\n",
    "                      train_dataset=train_dataset,\n",
    "                      eval_dataset=val_dataset)\n",
    "\n",
    "    trainer.train()\n",
    "\n",
    "    trainer.save_model('./finetuned_gpt2_sequence_classification_no_punc')\n",
    "\n",
    "\n",
    "\n",
    "if __name__ == '__main__':\n",
    "    fine_tune_gpt2_no_punc_for_detection()\n"
   ]
  },
  {
   "cell_type": "code",
   "execution_count": null,
   "id": "ec5a311b-b109-4a16-88a2-d41fccc99a23",
   "metadata": {},
   "outputs": [],
   "source": []
  }
 ],
 "metadata": {
  "kernelspec": {
   "display_name": "Python 3 (ipykernel)",
   "language": "python",
   "name": "python3"
  },
  "language_info": {
   "codemirror_mode": {
    "name": "ipython",
    "version": 3
   },
   "file_extension": ".py",
   "mimetype": "text/x-python",
   "name": "python",
   "nbconvert_exporter": "python",
   "pygments_lexer": "ipython3",
   "version": "3.8.10"
  }
 },
 "nbformat": 4,
 "nbformat_minor": 5
}
